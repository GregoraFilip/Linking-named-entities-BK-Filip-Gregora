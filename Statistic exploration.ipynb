{
 "cells": [
  {
   "cell_type": "code",
   "execution_count": 9,
   "id": "11cc35f8-d878-4dee-94e9-535a9a157463",
   "metadata": {},
   "outputs": [],
   "source": [
    "import numpy as np\n",
    "import pandas as pd\n",
    "import scipy.stats"
   ]
  },
  {
   "cell_type": "code",
   "execution_count": 3,
   "id": "c2ad278c-794f-4768-b82c-564e6e1e129f",
   "metadata": {},
   "outputs": [
    {
     "name": "stdout",
     "output_type": "stream",
     "text": [
      "0.5714285714285714\n",
      "(0.3989524079175335, 0.7439047349396093)\n",
      "(0.4050868408329908, 0.737770302024152)\n"
     ]
    }
   ],
   "source": [
    "# define sample data \n",
    "gfg_data = [0 if i < 15 else 1 for i in range(35)]\n",
    "print(np.mean(gfg_data))\n",
    "\n",
    "print(scipy.stats.t.interval(confidence=0.95, df=len(gfg_data)-1, \n",
    "              loc=np.mean(gfg_data), \n",
    "              scale=scipy.stats.sem(gfg_data)))\n",
    "\n",
    "print(scipy.stats.norm.interval(confidence=0.95, \n",
    "                 loc=np.mean(gfg_data), \n",
    "                 scale=scipy.stats.sem(gfg_data)))"
   ]
  },
  {
   "cell_type": "code",
   "execution_count": 39,
   "id": "d3e7267c-dca6-4f39-92f4-ec7b060b4ca4",
   "metadata": {},
   "outputs": [
    {
     "name": "stdout",
     "output_type": "stream",
     "text": [
      "(0.868375610032503, 0.9316243899674971) +- 0.031624389967497016\n"
     ]
    }
   ],
   "source": [
    "variance = lambda x: np.sqrt(x * (1 - x))\n",
    "\n",
    "prob = 0.9\n",
    "var = variance(prob)\n",
    "samples = 245\n",
    "rozp = 1.65 * (var / np.sqrt(samples))\n",
    "\n",
    "print((prob - rozp, prob + rozp), f\"+- {rozp}\")"
   ]
  },
  {
   "cell_type": "code",
   "execution_count": 31,
   "id": "87a5810e-8e3e-474d-93a2-c809d3d2df7d",
   "metadata": {},
   "outputs": [
    {
     "data": {
      "text/html": [
       "<div>\n",
       "<style scoped>\n",
       "    .dataframe tbody tr th:only-of-type {\n",
       "        vertical-align: middle;\n",
       "    }\n",
       "\n",
       "    .dataframe tbody tr th {\n",
       "        vertical-align: top;\n",
       "    }\n",
       "\n",
       "    .dataframe thead th {\n",
       "        text-align: right;\n",
       "    }\n",
       "</style>\n",
       "<table border=\"1\" class=\"dataframe\">\n",
       "  <thead>\n",
       "    <tr style=\"text-align: right;\">\n",
       "      <th></th>\n",
       "      <th>prob</th>\n",
       "    </tr>\n",
       "  </thead>\n",
       "  <tbody>\n",
       "    <tr>\n",
       "      <th>20</th>\n",
       "      <td>1.322876</td>\n",
       "    </tr>\n",
       "    <tr>\n",
       "      <th>21</th>\n",
       "      <td>1.290994</td>\n",
       "    </tr>\n",
       "    <tr>\n",
       "      <th>22</th>\n",
       "      <td>1.261312</td>\n",
       "    </tr>\n",
       "    <tr>\n",
       "      <th>23</th>\n",
       "      <td>1.233588</td>\n",
       "    </tr>\n",
       "    <tr>\n",
       "      <th>24</th>\n",
       "      <td>1.207615</td>\n",
       "    </tr>\n",
       "    <tr>\n",
       "      <th>25</th>\n",
       "      <td>1.183216</td>\n",
       "    </tr>\n",
       "    <tr>\n",
       "      <th>26</th>\n",
       "      <td>1.160239</td>\n",
       "    </tr>\n",
       "    <tr>\n",
       "      <th>27</th>\n",
       "      <td>1.138550</td>\n",
       "    </tr>\n",
       "    <tr>\n",
       "      <th>28</th>\n",
       "      <td>1.118034</td>\n",
       "    </tr>\n",
       "    <tr>\n",
       "      <th>29</th>\n",
       "      <td>1.098588</td>\n",
       "    </tr>\n",
       "    <tr>\n",
       "      <th>30</th>\n",
       "      <td>1.080123</td>\n",
       "    </tr>\n",
       "    <tr>\n",
       "      <th>31</th>\n",
       "      <td>1.062559</td>\n",
       "    </tr>\n",
       "    <tr>\n",
       "      <th>32</th>\n",
       "      <td>1.045825</td>\n",
       "    </tr>\n",
       "    <tr>\n",
       "      <th>33</th>\n",
       "      <td>1.029857</td>\n",
       "    </tr>\n",
       "    <tr>\n",
       "      <th>34</th>\n",
       "      <td>1.014599</td>\n",
       "    </tr>\n",
       "    <tr>\n",
       "      <th>35</th>\n",
       "      <td>1.000000</td>\n",
       "    </tr>\n",
       "    <tr>\n",
       "      <th>36</th>\n",
       "      <td>0.986013</td>\n",
       "    </tr>\n",
       "    <tr>\n",
       "      <th>37</th>\n",
       "      <td>0.972598</td>\n",
       "    </tr>\n",
       "    <tr>\n",
       "      <th>38</th>\n",
       "      <td>0.959715</td>\n",
       "    </tr>\n",
       "    <tr>\n",
       "      <th>39</th>\n",
       "      <td>0.947331</td>\n",
       "    </tr>\n",
       "    <tr>\n",
       "      <th>40</th>\n",
       "      <td>0.935414</td>\n",
       "    </tr>\n",
       "    <tr>\n",
       "      <th>41</th>\n",
       "      <td>0.923936</td>\n",
       "    </tr>\n",
       "    <tr>\n",
       "      <th>42</th>\n",
       "      <td>0.912871</td>\n",
       "    </tr>\n",
       "    <tr>\n",
       "      <th>43</th>\n",
       "      <td>0.902194</td>\n",
       "    </tr>\n",
       "    <tr>\n",
       "      <th>44</th>\n",
       "      <td>0.891883</td>\n",
       "    </tr>\n",
       "    <tr>\n",
       "      <th>45</th>\n",
       "      <td>0.881917</td>\n",
       "    </tr>\n",
       "    <tr>\n",
       "      <th>46</th>\n",
       "      <td>0.872278</td>\n",
       "    </tr>\n",
       "    <tr>\n",
       "      <th>47</th>\n",
       "      <td>0.862949</td>\n",
       "    </tr>\n",
       "    <tr>\n",
       "      <th>48</th>\n",
       "      <td>0.853913</td>\n",
       "    </tr>\n",
       "    <tr>\n",
       "      <th>49</th>\n",
       "      <td>0.845154</td>\n",
       "    </tr>\n",
       "  </tbody>\n",
       "</table>\n",
       "</div>"
      ],
      "text/plain": [
       "        prob\n",
       "20  1.322876\n",
       "21  1.290994\n",
       "22  1.261312\n",
       "23  1.233588\n",
       "24  1.207615\n",
       "25  1.183216\n",
       "26  1.160239\n",
       "27  1.138550\n",
       "28  1.118034\n",
       "29  1.098588\n",
       "30  1.080123\n",
       "31  1.062559\n",
       "32  1.045825\n",
       "33  1.029857\n",
       "34  1.014599\n",
       "35  1.000000\n",
       "36  0.986013\n",
       "37  0.972598\n",
       "38  0.959715\n",
       "39  0.947331\n",
       "40  0.935414\n",
       "41  0.923936\n",
       "42  0.912871\n",
       "43  0.902194\n",
       "44  0.891883\n",
       "45  0.881917\n",
       "46  0.872278\n",
       "47  0.862949\n",
       "48  0.853913\n",
       "49  0.845154"
      ]
     },
     "execution_count": 31,
     "metadata": {},
     "output_type": "execute_result"
    }
   ],
   "source": [
    "x = pd.DataFrame()\n",
    "x[\"sqrt\"] = pd.Series({i : np.sqrt(i) for i in range(20, 50)})\n",
    "x[\"prob\"] = x[\"sqrt\"].apply(lambda x: np.sqrt(35) / x)\n",
    "x[[\"prob\"]]"
   ]
  },
  {
   "cell_type": "code",
   "execution_count": 24,
   "id": "eb53a8f9-0f64-45c4-8ea9-af33c7b45d04",
   "metadata": {},
   "outputs": [
    {
     "data": {
      "text/plain": [
       "<Axes: xlabel='data'>"
      ]
     },
     "execution_count": 24,
     "metadata": {},
     "output_type": "execute_result"
    },
    {
     "data": {
      "image/png": "[encoded data removed]",
      "text/plain": [
       "<Figure size 640x480 with 1 Axes>"
      ]
     },
     "metadata": {},
     "output_type": "display_data"
    }
   ],
   "source": [
    "x = pd.DataFrame()\n",
    "x[\"data\"] = pd.Series(np.linspace(0, 1, 101))\n",
    "x[\"var\"] = x[\"data\"].apply(variance)\n",
    "x.plot(x=\"data\", y=\"var\")"
   ]
  },
  {
   "cell_type": "code",
   "execution_count": null,
   "id": "b8fbe64e-bb3f-4c70-801a-e3b2577822af",
   "metadata": {},
   "outputs": [],
   "source": []
  }
 ],
 "metadata": {
  "kernelspec": {
   "display_name": "Python 3 (ipykernel)",
   "language": "python",
   "name": "python3"
  },
  "language_info": {
   "codemirror_mode": {
    "name": "ipython",
    "version": 3
   },
   "file_extension": ".py",
   "mimetype": "text/x-python",
   "name": "python",
   "nbconvert_exporter": "python",
   "pygments_lexer": "ipython3",
   "version": "3.9.6"
  }
 },
 "nbformat": 4,
 "nbformat_minor": 5
}
