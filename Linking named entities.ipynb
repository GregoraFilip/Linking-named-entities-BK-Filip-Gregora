{
 "cells": [
  {
   "cell_type": "markdown",
   "id": "8ec09843",
   "metadata": {},
   "source": [
    "# Linking named entities\n",
    "Filip Gregora"
   ]
  },
  {
   "cell_type": "code",
   "execution_count": 208,
   "id": "06c163ee",
   "metadata": {},
   "outputs": [],
   "source": [
    "import pandas as pd\n",
    "\n",
    "data = pd.read_csv(\"data/NER_entities.csv\")"
   ]
  },
  {
   "cell_type": "code",
   "execution_count": 209,
   "id": "c62645ed",
   "metadata": {},
   "outputs": [
    {
     "data": {
      "text/html": [
       "<div>\n",
       "<style scoped>\n",
       "    .dataframe tbody tr th:only-of-type {\n",
       "        vertical-align: middle;\n",
       "    }\n",
       "\n",
       "    .dataframe tbody tr th {\n",
       "        vertical-align: top;\n",
       "    }\n",
       "\n",
       "    .dataframe thead th {\n",
       "        text-align: right;\n",
       "    }\n",
       "</style>\n",
       "<table border=\"1\" class=\"dataframe\">\n",
       "  <thead>\n",
       "    <tr style=\"text-align: right;\">\n",
       "      <th></th>\n",
       "      <th>label</th>\n",
       "      <th>text</th>\n",
       "    </tr>\n",
       "  </thead>\n",
       "  <tbody>\n",
       "    <tr>\n",
       "      <th>0</th>\n",
       "      <td>symptom</td>\n",
       "      <td>jemný fibrózní proužek</td>\n",
       "    </tr>\n",
       "    <tr>\n",
       "      <th>1</th>\n",
       "      <td>procedura</td>\n",
       "      <td>neoadjuvantní CHT</td>\n",
       "    </tr>\n",
       "    <tr>\n",
       "      <th>2</th>\n",
       "      <td>medikace</td>\n",
       "      <td>Novalgin</td>\n",
       "    </tr>\n",
       "    <tr>\n",
       "      <th>3</th>\n",
       "      <td>symptom</td>\n",
       "      <td>Označena SLU v levé axile.</td>\n",
       "    </tr>\n",
       "    <tr>\n",
       "      <th>4</th>\n",
       "      <td>procedura</td>\n",
       "      <td>st.p. totální ME + SNB vlevo</td>\n",
       "    </tr>\n",
       "  </tbody>\n",
       "</table>\n",
       "</div>"
      ],
      "text/plain": [
       "       label                          text\n",
       "0    symptom        jemný fibrózní proužek\n",
       "1  procedura             neoadjuvantní CHT\n",
       "2   medikace                      Novalgin\n",
       "3    symptom    Označena SLU v levé axile.\n",
       "4  procedura  st.p. totální ME + SNB vlevo"
      ]
     },
     "execution_count": 209,
     "metadata": {},
     "output_type": "execute_result"
    }
   ],
   "source": [
    "data.head()"
   ]
  },
  {
   "cell_type": "code",
   "execution_count": 215,
   "id": "27f521ed",
   "metadata": {},
   "outputs": [],
   "source": [
    "symptom = data[data.label == \"symptom\"].drop([\"label\"], axis=1)\n",
    "procedura = data[data.label == \"procedura\"].drop([\"label\"], axis=1)\n",
    "medikace = data[data.label == \"medikace\"].drop([\"label\"], axis=1)\n",
    "ne_symptom = data[data.label == \"NE symptom\"].drop([\"label\"], axis=1)\n",
    "os_anamneza = data[data.label == \"osobní anamnéza\"].drop([\"label\"], axis=1)\n",
    "ne_os_anamneza = data[data.label == \"NE osobní anamnéza\"].drop([\"label\"], axis=1)\n",
    "ne_medikace = data[data.label == \"NE medikace\"].drop([\"label\"], axis=1)"
   ]
  },
  {
   "cell_type": "code",
   "execution_count": 51,
   "id": "fc5bbad6",
   "metadata": {},
   "outputs": [],
   "source": [
    "assert(len(os_anamneza) + len(symptom) + len(procedura) + len(medikace) + len(ne_symptom) + len(ne_os_anamneza) + len(ne_medikace) \\\n",
    "            == len(data))"
   ]
  },
  {
   "cell_type": "code",
   "execution_count": 66,
   "id": "dd45378b",
   "metadata": {},
   "outputs": [
    {
     "data": {
      "text/plain": [
       "0          jemný fibrózní proužek\n",
       "3      Označena SLU v levé axile.\n",
       "18         mamma l.sin. dysplazie\n",
       "24                další ojedinělé\n",
       "29         stále brnění HKK i DKK\n",
       "36           hmatná tu léze v DKK\n",
       "59    další velikostní regrese TU\n",
       "60                      nespavost\n",
       "64         vlevo jizva ZHK změklá\n",
       "85    bolesti patní ostruhy vlevo\n",
       "Name: text, dtype: object"
      ]
     },
     "execution_count": 66,
     "metadata": {},
     "output_type": "execute_result"
    }
   ],
   "source": [
    "symptom.head(10)"
   ]
  },
  {
   "cell_type": "code",
   "execution_count": 93,
   "id": "86ba953b",
   "metadata": {},
   "outputs": [],
   "source": [
    "def clean_db(db):\n",
    "    return db.apply(lambda x: x.strip(\" ,.\").lower())"
   ]
  },
  {
   "cell_type": "code",
   "execution_count": 105,
   "id": "e9bc06ed",
   "metadata": {},
   "outputs": [
    {
     "data": {
      "text/plain": [
       "0          jemný fibrózní proužek\n",
       "3       označena slu v levé axile\n",
       "18         mamma l.sin. dysplazie\n",
       "24                další ojedinělé\n",
       "29         stále brnění hkk i dkk\n",
       "36           hmatná tu léze v dkk\n",
       "59    další velikostní regrese tu\n",
       "60                      nespavost\n",
       "64         vlevo jizva zhk změklá\n",
       "85    bolesti patní ostruhy vlevo\n",
       "Name: text, dtype: object"
      ]
     },
     "execution_count": 105,
     "metadata": {},
     "output_type": "execute_result"
    }
   ],
   "source": [
    "symptom = clean_db(symptom)\n",
    "symptom.head(10)"
   ]
  },
  {
   "cell_type": "code",
   "execution_count": 247,
   "id": "01b15b2d",
   "metadata": {},
   "outputs": [
    {
     "name": "stdout",
     "output_type": "stream",
     "text": [
      "[('C0149756', 'Fasciitis, Plantar')]\n"
     ]
    }
   ],
   "source": [
    "import requests\n",
    "from bs4 import BeautifulSoup\n",
    "import json\n",
    "from itertools import combinations\n",
    "\n",
    "def mash_search(string):\n",
    "    splitted_input = (string.split(\" \"))\n",
    "    result = []\n",
    "    for j in range(len(splitted_input), 0, -1):\n",
    "        for string in combinations(splitted_input, j):      \n",
    "            path = 'https://uts-ws.nlm.nih.gov/rest/search/current'\n",
    "            query = {\n",
    "                     'string': \" \".join(string),\n",
    "                     'apiKey':'6a290909-c0d8-4db9-b531-7387929b334e',\n",
    "            }\n",
    "            res = requests.get(path, params=query)\n",
    "\n",
    "            if res.status_code <= 200:\n",
    "                data = json.loads(res.text)\n",
    "                for j in data[\"result\"][\"results\"]:\n",
    "                    result.append((j[\"ui\"], j[\"name\"]))\n",
    "            else:\n",
    "                print(res.status_code, res.text)\n",
    "        \n",
    "        if len(result) != 0:\n",
    "            break\n",
    "            \n",
    "    return result\n",
    "        \n",
    "r = mash_search('bolesti patní ostruhy vlevo')\n",
    "print(r)\n",
    "# print(json.dumps(r, indent=4))"
   ]
  },
  {
   "cell_type": "code",
   "execution_count": null,
   "id": "d2f4e8b7",
   "metadata": {},
   "outputs": [],
   "source": [
    "symptom[\"search\"] = symptom[\"text\"].apply(mash_search)"
   ]
  },
  {
   "cell_type": "code",
   "execution_count": null,
   "id": "7e1aa20e",
   "metadata": {},
   "outputs": [],
   "source": [
    "symptom"
   ]
  },
  {
   "cell_type": "code",
   "execution_count": 54,
   "id": "9cf46cc7",
   "metadata": {},
   "outputs": [],
   "source": [
    "import xml.etree.ElementTree as elt\n",
    "\n",
    "content = elt.parse('databaze/MeSH2023_Marc21.xml').getroot()"
   ]
  },
  {
   "cell_type": "code",
   "execution_count": 104,
   "id": "bf34878a",
   "metadata": {},
   "outputs": [],
   "source": [
    "for child in content:\n",
    "#     print(child)\n",
    "    pass\n",
    "    "
   ]
  }
 ],
 "metadata": {
  "kernelspec": {
   "display_name": "Python 3 (ipykernel)",
   "language": "python",
   "name": "python3"
  },
  "language_info": {
   "codemirror_mode": {
    "name": "ipython",
    "version": 3
   },
   "file_extension": ".py",
   "mimetype": "text/x-python",
   "name": "python",
   "nbconvert_exporter": "python",
   "pygments_lexer": "ipython3",
   "version": "3.9.6"
  }
 },
 "nbformat": 4,
 "nbformat_minor": 5
}
