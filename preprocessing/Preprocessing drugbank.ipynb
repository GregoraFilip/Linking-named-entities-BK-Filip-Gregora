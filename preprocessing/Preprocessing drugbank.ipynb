{
 "cells": [
  {
   "cell_type": "code",
   "execution_count": 1,
   "id": "01c28c66-2291-4bc7-9c03-f58204efdaa7",
   "metadata": {},
   "outputs": [],
   "source": [
    "import pandas as pd\n",
    "import xml.etree.ElementTree as elt\n",
    "import re\n",
    "import numpy as np"
   ]
  },
  {
   "cell_type": "code",
   "execution_count": 2,
   "id": "c7185690-ed71-4b9e-9ce3-7f3a1855e29b",
   "metadata": {
    "scrolled": true
   },
   "outputs": [
    {
     "name": "stdout",
     "output_type": "stream",
     "text": [
      "0\n",
      "100\n",
      "200\n",
      "300\n"
     ]
    },
    {
     "ename": "KeyboardInterrupt",
     "evalue": "",
     "output_type": "error",
     "traceback": [
      "\u001b[1;31m---------------------------------------------------------------------------\u001b[0m",
      "\u001b[1;31mKeyboardInterrupt\u001b[0m                         Traceback (most recent call last)",
      "Cell \u001b[1;32mIn[2], line 12\u001b[0m\n\u001b[0;32m      9\u001b[0m name_first \u001b[38;5;241m=\u001b[39m \u001b[38;5;28;01mFalse\u001b[39;00m\n\u001b[0;32m     10\u001b[0m des_first \u001b[38;5;241m=\u001b[39m \u001b[38;5;28;01mFalse\u001b[39;00m\n\u001b[1;32m---> 12\u001b[0m \u001b[38;5;28;01mfor\u001b[39;00m event, elem \u001b[38;5;129;01min\u001b[39;00m elt\u001b[38;5;241m.\u001b[39miterparse(\u001b[38;5;124m\"\u001b[39m\u001b[38;5;124m../databaze/full database.xml\u001b[39m\u001b[38;5;124m\"\u001b[39m, events\u001b[38;5;241m=\u001b[39m(\u001b[38;5;124m\"\u001b[39m\u001b[38;5;124mend\u001b[39m\u001b[38;5;124m\"\u001b[39m,)):\n\u001b[0;32m     13\u001b[0m     \u001b[38;5;28;01mif\u001b[39;00m elem\u001b[38;5;241m.\u001b[39mtag \u001b[38;5;241m==\u001b[39m \u001b[38;5;124m\"\u001b[39m\u001b[38;5;124m{\u001b[39m\u001b[38;5;124mhttp://www.drugbank.ca}drugbank-id\u001b[39m\u001b[38;5;124m\"\u001b[39m \u001b[38;5;129;01mand\u001b[39;00m elem\u001b[38;5;241m.\u001b[39mattrib\u001b[38;5;241m.\u001b[39mpop(\u001b[38;5;124m\"\u001b[39m\u001b[38;5;124mprimary\u001b[39m\u001b[38;5;124m\"\u001b[39m, \u001b[38;5;124m\"\u001b[39m\u001b[38;5;124mnothing\u001b[39m\u001b[38;5;124m\"\u001b[39m) \u001b[38;5;241m==\u001b[39m \u001b[38;5;124m\"\u001b[39m\u001b[38;5;124mtrue\u001b[39m\u001b[38;5;124m\"\u001b[39m:\n\u001b[0;32m     14\u001b[0m         i \u001b[38;5;241m+\u001b[39m\u001b[38;5;241m=\u001b[39m \u001b[38;5;241m1\u001b[39m\n",
      "File \u001b[1;32m~\\AppData\\Local\\Programs\\Python\\Python39\\lib\\xml\\etree\\ElementTree.py:1256\u001b[0m, in \u001b[0;36miterparse.<locals>.iterator\u001b[1;34m()\u001b[0m\n\u001b[0;32m   1254\u001b[0m \u001b[38;5;28;01myield from\u001b[39;00m pullparser\u001b[38;5;241m.\u001b[39mread_events()\n\u001b[0;32m   1255\u001b[0m \u001b[38;5;66;03m# load event buffer\u001b[39;00m\n\u001b[1;32m-> 1256\u001b[0m data \u001b[38;5;241m=\u001b[39m \u001b[43msource\u001b[49m\u001b[38;5;241;43m.\u001b[39;49m\u001b[43mread\u001b[49m\u001b[43m(\u001b[49m\u001b[38;5;241;43m16\u001b[39;49m\u001b[43m \u001b[49m\u001b[38;5;241;43m*\u001b[39;49m\u001b[43m \u001b[49m\u001b[38;5;241;43m1024\u001b[39;49m\u001b[43m)\u001b[49m\n\u001b[0;32m   1257\u001b[0m \u001b[38;5;28;01mif\u001b[39;00m \u001b[38;5;129;01mnot\u001b[39;00m data:\n\u001b[0;32m   1258\u001b[0m     \u001b[38;5;28;01mbreak\u001b[39;00m\n",
      "\u001b[1;31mKeyboardInterrupt\u001b[0m: "
     ]
    }
   ],
   "source": [
    "atc_drug_bank = pd.DataFrame()\n",
    "atc_drug_bank[\"atc\"] = \"N/A\"\n",
    "atc_drug_bank[\"name\"] = \"N/A\"\n",
    "atc_drug_bank[\"description\"] = \"N/A\"\n",
    "atc_drug_bank[\"code\"] = \"N/A\"\n",
    "atc_drug_bank[\"fda_code\"] = \"N/A\"\n",
    "\n",
    "i = -1\n",
    "name_first = False\n",
    "des_first = False\n",
    "\n",
    "for event, elem in elt.iterparse(\"../databaze/full database.xml\", events=(\"end\",)):\n",
    "    if elem.tag == \"{http://www.drugbank.ca}drugbank-id\" and elem.attrib.pop(\"primary\", \"nothing\") == \"true\":\n",
    "        i += 1\n",
    "        if i % 100 == 0:\n",
    "            print(i)\n",
    "            \n",
    "        name_first = True\n",
    "        des_first = True\n",
    "        atc_drug_bank.at[i, \"code\"] = elem.text\n",
    "        atc_drug_bank.at[i, \"fda_code\"] = []\n",
    "    \n",
    "    if elem.tag == \"{http://www.drugbank.ca}name\" and name_first:\n",
    "        atc_drug_bank.at[i, \"name\"] = elem.text\n",
    "        name_first = False\n",
    "\n",
    "    if elem.tag == \"{http://www.drugbank.ca}description\" and des_first:\n",
    "        atc_drug_bank.at[i, \"description\"] = elem.text\n",
    "        des_first = False\n",
    "\n",
    "    if elem.tag == \"{http://www.drugbank.ca}atc-codes\":\n",
    "        atc_drug_bank.at[i, \"atc\"] = [x.attrib[\"code\"] for x in elem.findall(\"{http://www.drugbank.ca}atc-code\")]\n",
    "\n",
    "    if elem.tag == \"{http://www.drugbank.ca}fda-label\":\n",
    "        atc_drug_bank.at[i, \"fda_code\"] = atc_drug_bank[\"fda_code\"][i] + re.findall(\"DB[0-9]+\", elem.text)\n",
    "\n",
    "        \n",
    "# atc_drug_bank.to_csv(\"databaze/drugbank_to_atc.csv\")"
   ]
  },
  {
   "cell_type": "code",
   "execution_count": 3,
   "id": "c496ef34-fb0c-49a9-969b-dc5bd2f554e6",
   "metadata": {},
   "outputs": [
    {
     "data": {
      "text/plain": [
       "1"
      ]
     },
     "execution_count": 3,
     "metadata": {},
     "output_type": "execute_result"
    }
   ],
   "source": [
    "atc_drug_bank[\"fda_code\"].apply(lambda x: len(x)).max()"
   ]
  },
  {
   "cell_type": "code",
   "execution_count": 4,
   "id": "0990588e-5dc8-45b0-a627-26bc764e2df9",
   "metadata": {},
   "outputs": [
    {
     "data": {
      "text/html": [
       "<div>\n",
       "<style scoped>\n",
       "    .dataframe tbody tr th:only-of-type {\n",
       "        vertical-align: middle;\n",
       "    }\n",
       "\n",
       "    .dataframe tbody tr th {\n",
       "        vertical-align: top;\n",
       "    }\n",
       "\n",
       "    .dataframe thead th {\n",
       "        text-align: right;\n",
       "    }\n",
       "</style>\n",
       "<table border=\"1\" class=\"dataframe\">\n",
       "  <thead>\n",
       "    <tr style=\"text-align: right;\">\n",
       "      <th></th>\n",
       "      <th>atc</th>\n",
       "      <th>name</th>\n",
       "      <th>description</th>\n",
       "      <th>code</th>\n",
       "      <th>fda_code</th>\n",
       "    </tr>\n",
       "  </thead>\n",
       "  <tbody>\n",
       "    <tr>\n",
       "      <th>0</th>\n",
       "      <td>[B01AE02]</td>\n",
       "      <td>Lepirudin</td>\n",
       "      <td>Lepirudin is a recombinant hirudin formed by 6...</td>\n",
       "      <td>DB00001</td>\n",
       "      <td>NaN</td>\n",
       "    </tr>\n",
       "    <tr>\n",
       "      <th>1</th>\n",
       "      <td>[L01FE01]</td>\n",
       "      <td>Cetuximab</td>\n",
       "      <td>Cetuximab is a recombinant chimeric human/mous...</td>\n",
       "      <td>DB00002</td>\n",
       "      <td>NaN</td>\n",
       "    </tr>\n",
       "    <tr>\n",
       "      <th>2</th>\n",
       "      <td>[R05CB13]</td>\n",
       "      <td>Dornase alfa</td>\n",
       "      <td>Dornase alfa is a biosynthetic form of human d...</td>\n",
       "      <td>DB00003</td>\n",
       "      <td>NaN</td>\n",
       "    </tr>\n",
       "    <tr>\n",
       "      <th>3</th>\n",
       "      <td>[L01XX29]</td>\n",
       "      <td>Denileukin diftitox</td>\n",
       "      <td>A recombinant DNA-derived cytotoxic protein co...</td>\n",
       "      <td>DB00004</td>\n",
       "      <td>NaN</td>\n",
       "    </tr>\n",
       "    <tr>\n",
       "      <th>4</th>\n",
       "      <td>[L04AB01]</td>\n",
       "      <td>Etanercept</td>\n",
       "      <td>Dimeric fusion protein consisting of the extra...</td>\n",
       "      <td>DB00005</td>\n",
       "      <td>NaN</td>\n",
       "    </tr>\n",
       "    <tr>\n",
       "      <th>5</th>\n",
       "      <td>[B01AE06]</td>\n",
       "      <td>Bivalirudin</td>\n",
       "      <td>Bivalirudin is a synthetic 20 residue peptide ...</td>\n",
       "      <td>DB00006</td>\n",
       "      <td>NaN</td>\n",
       "    </tr>\n",
       "    <tr>\n",
       "      <th>6</th>\n",
       "      <td>[L02AE51, L02AE02]</td>\n",
       "      <td>Leuprolide</td>\n",
       "      <td>Leuprolide is a synthetic 9-residue peptide an...</td>\n",
       "      <td>DB00007</td>\n",
       "      <td>NaN</td>\n",
       "    </tr>\n",
       "    <tr>\n",
       "      <th>7</th>\n",
       "      <td>[]</td>\n",
       "      <td>Leuprolide acetate</td>\n",
       "      <td>NaN</td>\n",
       "      <td>DBSALT000105</td>\n",
       "      <td>NaN</td>\n",
       "    </tr>\n",
       "    <tr>\n",
       "      <th>8</th>\n",
       "      <td>[L02AE51, L02AE02]</td>\n",
       "      <td>Leuprolide mesylate</td>\n",
       "      <td>Leuprolide 2wk 1 mg/0.2 ml kit</td>\n",
       "      <td>DBSALT003182</td>\n",
       "      <td>DB00007</td>\n",
       "    </tr>\n",
       "    <tr>\n",
       "      <th>9</th>\n",
       "      <td>[L03AB11, L03AB61]</td>\n",
       "      <td>Peginterferon alfa-2a</td>\n",
       "      <td>Peginterferon alfa-2a is a form of recombinant...</td>\n",
       "      <td>DB00008</td>\n",
       "      <td>NaN</td>\n",
       "    </tr>\n",
       "  </tbody>\n",
       "</table>\n",
       "</div>"
      ],
      "text/plain": [
       "                  atc                   name  \\\n",
       "0           [B01AE02]              Lepirudin   \n",
       "1           [L01FE01]              Cetuximab   \n",
       "2           [R05CB13]           Dornase alfa   \n",
       "3           [L01XX29]    Denileukin diftitox   \n",
       "4           [L04AB01]             Etanercept   \n",
       "5           [B01AE06]            Bivalirudin   \n",
       "6  [L02AE51, L02AE02]             Leuprolide   \n",
       "7                  []     Leuprolide acetate   \n",
       "8  [L02AE51, L02AE02]    Leuprolide mesylate   \n",
       "9  [L03AB11, L03AB61]  Peginterferon alfa-2a   \n",
       "\n",
       "                                         description          code fda_code  \n",
       "0  Lepirudin is a recombinant hirudin formed by 6...       DB00001      NaN  \n",
       "1  Cetuximab is a recombinant chimeric human/mous...       DB00002      NaN  \n",
       "2  Dornase alfa is a biosynthetic form of human d...       DB00003      NaN  \n",
       "3  A recombinant DNA-derived cytotoxic protein co...       DB00004      NaN  \n",
       "4  Dimeric fusion protein consisting of the extra...       DB00005      NaN  \n",
       "5  Bivalirudin is a synthetic 20 residue peptide ...       DB00006      NaN  \n",
       "6  Leuprolide is a synthetic 9-residue peptide an...       DB00007      NaN  \n",
       "7                                                NaN  DBSALT000105      NaN  \n",
       "8                     Leuprolide 2wk 1 mg/0.2 ml kit  DBSALT003182  DB00007  \n",
       "9  Peginterferon alfa-2a is a form of recombinant...       DB00008      NaN  "
      ]
     },
     "execution_count": 4,
     "metadata": {},
     "output_type": "execute_result"
    }
   ],
   "source": [
    "atc_drug_bank[\"fda_code\"] = atc_drug_bank[\"fda_code\"].apply(lambda x: x[0] if len(x) >= 1 else np.nan)\n",
    "atc_drug_bank[\"fda_code\"] = atc_drug_bank.apply(lambda x: np.nan if x.code == x.fda_code else x.fda_code, axis=1)\n",
    "\n",
    "\n",
    "for i in atc_drug_bank[atc_drug_bank[\"atc\"].isna()].index:\n",
    "    atc_drug_bank.at[i, \"atc\"] = []\n",
    "\n",
    "\n",
    "for i in atc_drug_bank[\"fda_code\"].dropna().index:\n",
    "    j = atc_drug_bank[atc_drug_bank[\"code\"] == atc_drug_bank[\"fda_code\"][i]].index[0]\n",
    "    atc_drug_bank.at[j, \"atc\"] = atc_drug_bank[\"atc\"][i] + atc_drug_bank[\"atc\"][j]\n",
    "\n",
    "\n",
    "atc_drug_bank.head(10)"
   ]
  },
  {
   "cell_type": "code",
   "execution_count": 5,
   "id": "1be4bfbd-2c54-4d83-8e4e-c4c73191f900",
   "metadata": {},
   "outputs": [],
   "source": [
    "atc_drug_bank = atc_drug_bank[atc_drug_bank[\"fda_code\"].isna()]\n",
    "atc_drug_bank = atc_drug_bank[atc_drug_bank[\"atc\"].apply(lambda x: len(x) != 0)]\n",
    "atc_drug_bank[\"atc\"] = atc_drug_bank[\"atc\"].apply(lambda x: list(set(x)))\n",
    "atc_drug_bank = atc_drug_bank.drop([\"fda_code\"], axis=1)"
   ]
  },
  {
   "cell_type": "code",
   "execution_count": 6,
   "id": "5ade0f9d-72df-4956-a9c3-3d178f046489",
   "metadata": {},
   "outputs": [],
   "source": [
    "atc_drug_bank[\"description\"] = atc_drug_bank[\"description\"].fillna(\"\")\n",
    "atc_drug_bank[\"description\"] = atc_drug_bank.apply(lambda x: \"\" if \"DBSALT\" in x.code else x.description, axis=1)"
   ]
  },
  {
   "cell_type": "code",
   "execution_count": 7,
   "id": "634951e3-7bb0-4a46-aac4-e38b6f028607",
   "metadata": {},
   "outputs": [],
   "source": [
    "new = pd.DataFrame()\n",
    "new[\"atc\"] = \"N/A\"\n",
    "new[\"name\"] = \"N/A\"\n",
    "new[\"description\"] = \"N/A\"\n",
    "new[\"code\"] = \"N/A\"\n",
    "\n",
    "for i in range(atc_drug_bank[\"atc\"].apply(lambda x: len(x)).max() + 1):\n",
    "    temp = pd.DataFrame()\n",
    "    filtered = atc_drug_bank[atc_drug_bank[\"atc\"].apply(lambda x: len(x) > i)].copy()\n",
    "    temp[\"atc\"] = filtered[\"atc\"].apply(lambda x: x[i])\n",
    "    temp[\"name\"] = filtered[\"name\"]\n",
    "    temp[\"description\"] = filtered[\"description\"]\n",
    "    temp[\"code\"] = filtered[\"code\"]\n",
    "\n",
    "    temp.index = temp.index + len(new)\n",
    "    new = pd.concat([new, temp])\n",
    "\n",
    "atc_drug_bank = new"
   ]
  },
  {
   "cell_type": "code",
   "execution_count": 8,
   "id": "2336f4c3-fd25-4e6d-ad73-2bcac7bb2fd3",
   "metadata": {},
   "outputs": [],
   "source": [
    "atc_drug_bank.reset_index(drop=True).to_csv(\"../databaze/drugbank_to_atc.csv\")"
   ]
  }
 ],
 "metadata": {
  "kernelspec": {
   "display_name": "Python 3 (ipykernel)",
   "language": "python",
   "name": "python3"
  },
  "language_info": {
   "codemirror_mode": {
    "name": "ipython",
    "version": 3
   },
   "file_extension": ".py",
   "mimetype": "text/x-python",
   "name": "python",
   "nbconvert_exporter": "python",
   "pygments_lexer": "ipython3",
   "version": "3.9.6"
  }
 },
 "nbformat": 4,
 "nbformat_minor": 5
}
