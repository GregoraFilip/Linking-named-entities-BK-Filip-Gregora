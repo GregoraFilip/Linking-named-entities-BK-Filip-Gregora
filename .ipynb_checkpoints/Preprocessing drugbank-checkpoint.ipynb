{
 "cells": [
  {
   "cell_type": "code",
   "execution_count": null,
   "id": "c7185690-ed71-4b9e-9ce3-7f3a1855e29b",
   "metadata": {},
   "outputs": [],
   "source": [
    "atc_drug_bank = pd.DataFrame()\n",
    "atc_drug_bank[\"atc\"] = \"N/A\"\n",
    "atc_drug_bank[\"name\"] = \"N/A\"\n",
    "atc_drug_bank[\"description\"] = \"N/A\"\n",
    "atc_drug_bank[\"code\"] = \"N/A\"\n",
    "\n",
    "i = -1\n",
    "name_first = False\n",
    "des_first = False\n",
    "\n",
    "for event, elem in elt.iterparse(\"databaze/full database.xml\", events=(\"end\",)):\n",
    "    if elem.tag == \"{http://www.drugbank.ca}drugbank-id\" and elem.attrib.pop(\"primary\", \"nothing\") == \"true\":\n",
    "        i += 1\n",
    "        if i % 100 == 0:\n",
    "            print(i)\n",
    "            \n",
    "        name_first = True\n",
    "        des_first = True\n",
    "        atc_drug_bank.at[i, \"code\"] = elem.text\n",
    "\n",
    "    if elem.tag == \"{http://www.drugbank.ca}name\" and name_first:\n",
    "        atc_drug_bank.at[i, \"name\"] = elem.text\n",
    "        name_first = False\n",
    "\n",
    "    if elem.tag == \"{http://www.drugbank.ca}description\" and des_first:\n",
    "        atc_drug_bank.at[i, \"description\"] = elem.text\n",
    "        des_first = False\n",
    "\n",
    "    if elem.tag == \"{http://www.drugbank.ca}atc-codes\":\n",
    "        atc_drug_bank.at[i, \"atc\"] = [x.attrib[\"code\"] for x in elem.findall(\"{http://www.drugbank.ca}atc-code\")]  \n",
    "\n",
    "atc_drug_bank.to_csv(\"databaze/drugbank_to_atc.csv\")"
   ]
  }
 ],
 "metadata": {
  "kernelspec": {
   "display_name": "Python 3 (ipykernel)",
   "language": "python",
   "name": "python3"
  },
  "language_info": {
   "codemirror_mode": {
    "name": "ipython",
    "version": 3
   },
   "file_extension": ".py",
   "mimetype": "text/x-python",
   "name": "python",
   "nbconvert_exporter": "python",
   "pygments_lexer": "ipython3",
   "version": "3.9.6"
  }
 },
 "nbformat": 4,
 "nbformat_minor": 5
}
