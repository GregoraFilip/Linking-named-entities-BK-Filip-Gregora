{
 "cells": [
  {
   "cell_type": "markdown",
   "id": "8ec09843",
   "metadata": {},
   "source": [
    "# Linking named entities\n",
    "Filip Gregora"
   ]
  },
  {
   "cell_type": "code",
   "execution_count": 1,
   "id": "06c163ee",
   "metadata": {},
   "outputs": [],
   "source": [
    "import pandas as pd\n",
    "\n",
    "data = pd.read_csv(\"data/NER_entities.csv\")"
   ]
  },
  {
   "cell_type": "code",
   "execution_count": 2,
   "id": "c62645ed",
   "metadata": {},
   "outputs": [
    {
     "data": {
      "text/html": [
       "<div>\n",
       "<style scoped>\n",
       "    .dataframe tbody tr th:only-of-type {\n",
       "        vertical-align: middle;\n",
       "    }\n",
       "\n",
       "    .dataframe tbody tr th {\n",
       "        vertical-align: top;\n",
       "    }\n",
       "\n",
       "    .dataframe thead th {\n",
       "        text-align: right;\n",
       "    }\n",
       "</style>\n",
       "<table border=\"1\" class=\"dataframe\">\n",
       "  <thead>\n",
       "    <tr style=\"text-align: right;\">\n",
       "      <th></th>\n",
       "      <th>label</th>\n",
       "      <th>text</th>\n",
       "    </tr>\n",
       "  </thead>\n",
       "  <tbody>\n",
       "    <tr>\n",
       "      <th>0</th>\n",
       "      <td>symptom</td>\n",
       "      <td>jemný fibrózní proužek</td>\n",
       "    </tr>\n",
       "    <tr>\n",
       "      <th>1</th>\n",
       "      <td>procedura</td>\n",
       "      <td>neoadjuvantní CHT</td>\n",
       "    </tr>\n",
       "    <tr>\n",
       "      <th>2</th>\n",
       "      <td>medikace</td>\n",
       "      <td>Novalgin</td>\n",
       "    </tr>\n",
       "    <tr>\n",
       "      <th>3</th>\n",
       "      <td>symptom</td>\n",
       "      <td>Označena SLU v levé axile.</td>\n",
       "    </tr>\n",
       "    <tr>\n",
       "      <th>4</th>\n",
       "      <td>procedura</td>\n",
       "      <td>st.p. totální ME + SNB vlevo</td>\n",
       "    </tr>\n",
       "  </tbody>\n",
       "</table>\n",
       "</div>"
      ],
      "text/plain": [
       "       label                          text\n",
       "0    symptom        jemný fibrózní proužek\n",
       "1  procedura             neoadjuvantní CHT\n",
       "2   medikace                      Novalgin\n",
       "3    symptom    Označena SLU v levé axile.\n",
       "4  procedura  st.p. totální ME + SNB vlevo"
      ]
     },
     "execution_count": 2,
     "metadata": {},
     "output_type": "execute_result"
    }
   ],
   "source": [
    "data.head()"
   ]
  },
  {
   "cell_type": "code",
   "execution_count": 3,
   "id": "27f521ed",
   "metadata": {},
   "outputs": [],
   "source": [
    "symptom = data[data.label == \"symptom\"].drop([\"label\"], axis=1)\n",
    "procedura = data[data.label == \"procedura\"].drop([\"label\"], axis=1)\n",
    "medikace = data[data.label == \"medikace\"].drop([\"label\"], axis=1)\n",
    "ne_symptom = data[data.label == \"NE symptom\"].drop([\"label\"], axis=1)\n",
    "os_anamneza = data[data.label == \"osobní anamnéza\"].drop([\"label\"], axis=1)\n",
    "ne_os_anamneza = data[data.label == \"NE osobní anamnéza\"].drop([\"label\"], axis=1)\n",
    "ne_medikace = data[data.label == \"NE medikace\"].drop([\"label\"], axis=1)"
   ]
  },
  {
   "cell_type": "code",
   "execution_count": 4,
   "id": "fc5bbad6",
   "metadata": {},
   "outputs": [],
   "source": [
    "assert(len(os_anamneza) + len(symptom) + len(procedura) + len(medikace) + len(ne_symptom) + len(ne_os_anamneza) + len(ne_medikace) \\\n",
    "            == len(data))"
   ]
  },
  {
   "cell_type": "code",
   "execution_count": 5,
   "id": "dd45378b",
   "metadata": {},
   "outputs": [
    {
     "data": {
      "text/html": [
       "<div>\n",
       "<style scoped>\n",
       "    .dataframe tbody tr th:only-of-type {\n",
       "        vertical-align: middle;\n",
       "    }\n",
       "\n",
       "    .dataframe tbody tr th {\n",
       "        vertical-align: top;\n",
       "    }\n",
       "\n",
       "    .dataframe thead th {\n",
       "        text-align: right;\n",
       "    }\n",
       "</style>\n",
       "<table border=\"1\" class=\"dataframe\">\n",
       "  <thead>\n",
       "    <tr style=\"text-align: right;\">\n",
       "      <th></th>\n",
       "      <th>text</th>\n",
       "    </tr>\n",
       "  </thead>\n",
       "  <tbody>\n",
       "    <tr>\n",
       "      <th>0</th>\n",
       "      <td>jemný fibrózní proužek</td>\n",
       "    </tr>\n",
       "    <tr>\n",
       "      <th>3</th>\n",
       "      <td>Označena SLU v levé axile.</td>\n",
       "    </tr>\n",
       "    <tr>\n",
       "      <th>18</th>\n",
       "      <td>mamma l.sin. dysplazie</td>\n",
       "    </tr>\n",
       "    <tr>\n",
       "      <th>24</th>\n",
       "      <td>další ojedinělé</td>\n",
       "    </tr>\n",
       "    <tr>\n",
       "      <th>29</th>\n",
       "      <td>stále brnění HKK i DKK</td>\n",
       "    </tr>\n",
       "    <tr>\n",
       "      <th>36</th>\n",
       "      <td>hmatná tu léze v DKK</td>\n",
       "    </tr>\n",
       "    <tr>\n",
       "      <th>59</th>\n",
       "      <td>další velikostní regrese TU</td>\n",
       "    </tr>\n",
       "    <tr>\n",
       "      <th>60</th>\n",
       "      <td>nespavost</td>\n",
       "    </tr>\n",
       "    <tr>\n",
       "      <th>64</th>\n",
       "      <td>vlevo jizva ZHK změklá</td>\n",
       "    </tr>\n",
       "    <tr>\n",
       "      <th>85</th>\n",
       "      <td>bolesti patní ostruhy vlevo</td>\n",
       "    </tr>\n",
       "  </tbody>\n",
       "</table>\n",
       "</div>"
      ],
      "text/plain": [
       "                           text\n",
       "0        jemný fibrózní proužek\n",
       "3    Označena SLU v levé axile.\n",
       "18       mamma l.sin. dysplazie\n",
       "24              další ojedinělé\n",
       "29       stále brnění HKK i DKK\n",
       "36         hmatná tu léze v DKK\n",
       "59  další velikostní regrese TU\n",
       "60                    nespavost\n",
       "64       vlevo jizva ZHK změklá\n",
       "85  bolesti patní ostruhy vlevo"
      ]
     },
     "execution_count": 5,
     "metadata": {},
     "output_type": "execute_result"
    }
   ],
   "source": [
    "symptom.head(10)"
   ]
  },
  {
   "cell_type": "code",
   "execution_count": 6,
   "id": "86ba953b",
   "metadata": {},
   "outputs": [],
   "source": [
    "def clean_db(db):\n",
    "    db_copy = db.copy()\n",
    "    db_copy[\"text\"] = db_copy[\"text\"].apply(lambda x: x.strip(\" ,.:\").lower())\n",
    "    db_copy[\"text\"] = db_copy[\"text\"].drop_duplicates()\n",
    "    return db_copy.dropna()"
   ]
  },
  {
   "cell_type": "code",
   "execution_count": 8,
   "id": "e9bc06ed",
   "metadata": {},
   "outputs": [
    {
     "data": {
      "text/html": [
       "<div>\n",
       "<style scoped>\n",
       "    .dataframe tbody tr th:only-of-type {\n",
       "        vertical-align: middle;\n",
       "    }\n",
       "\n",
       "    .dataframe tbody tr th {\n",
       "        vertical-align: top;\n",
       "    }\n",
       "\n",
       "    .dataframe thead th {\n",
       "        text-align: right;\n",
       "    }\n",
       "</style>\n",
       "<table border=\"1\" class=\"dataframe\">\n",
       "  <thead>\n",
       "    <tr style=\"text-align: right;\">\n",
       "      <th></th>\n",
       "      <th>text</th>\n",
       "    </tr>\n",
       "  </thead>\n",
       "  <tbody>\n",
       "    <tr>\n",
       "      <th>0</th>\n",
       "      <td>jemný fibrózní proužek</td>\n",
       "    </tr>\n",
       "    <tr>\n",
       "      <th>3</th>\n",
       "      <td>označena slu v levé axile</td>\n",
       "    </tr>\n",
       "    <tr>\n",
       "      <th>18</th>\n",
       "      <td>mamma l.sin. dysplazie</td>\n",
       "    </tr>\n",
       "    <tr>\n",
       "      <th>24</th>\n",
       "      <td>další ojedinělé</td>\n",
       "    </tr>\n",
       "    <tr>\n",
       "      <th>29</th>\n",
       "      <td>stále brnění hkk i dkk</td>\n",
       "    </tr>\n",
       "    <tr>\n",
       "      <th>36</th>\n",
       "      <td>hmatná tu léze v dkk</td>\n",
       "    </tr>\n",
       "    <tr>\n",
       "      <th>59</th>\n",
       "      <td>další velikostní regrese tu</td>\n",
       "    </tr>\n",
       "    <tr>\n",
       "      <th>60</th>\n",
       "      <td>nespavost</td>\n",
       "    </tr>\n",
       "    <tr>\n",
       "      <th>64</th>\n",
       "      <td>vlevo jizva zhk změklá</td>\n",
       "    </tr>\n",
       "    <tr>\n",
       "      <th>85</th>\n",
       "      <td>bolesti patní ostruhy vlevo</td>\n",
       "    </tr>\n",
       "  </tbody>\n",
       "</table>\n",
       "</div>"
      ],
      "text/plain": [
       "                           text\n",
       "0        jemný fibrózní proužek\n",
       "3     označena slu v levé axile\n",
       "18       mamma l.sin. dysplazie\n",
       "24              další ojedinělé\n",
       "29       stále brnění hkk i dkk\n",
       "36         hmatná tu léze v dkk\n",
       "59  další velikostní regrese tu\n",
       "60                    nespavost\n",
       "64       vlevo jizva zhk změklá\n",
       "85  bolesti patní ostruhy vlevo"
      ]
     },
     "execution_count": 8,
     "metadata": {},
     "output_type": "execute_result"
    }
   ],
   "source": [
    "symptom = clean_db(symptom)\n",
    "symptom.head(10)"
   ]
  },
  {
   "cell_type": "markdown",
   "id": "fbc45a11",
   "metadata": {},
   "source": [
    "## Linking to MASH\n",
    "Mash is international medical databaze: https://uts.nlm.nih.gov/uts/.\n",
    "\n",
    "I tried search whole medical text in database. If it didn't success then I searched all combinations of words from text of length -1. I repeat it until I succeed (or all combinations have been tryied)."
   ]
  },
  {
   "cell_type": "code",
   "execution_count": 9,
   "id": "01b15b2d",
   "metadata": {},
   "outputs": [
    {
     "name": "stdout",
     "output_type": "stream",
     "text": [
      "[('C0149756', 'Fasciitis, Plantar')]\n"
     ]
    }
   ],
   "source": [
    "import requests\n",
    "from bs4 import BeautifulSoup\n",
    "import json\n",
    "from itertools import combinations\n",
    "\n",
    "# Do not search in databaze if it number or it is too short (shorter than 2)\n",
    "def filter_short(string):\n",
    "    return len(string) < 2 or string.isdigit()\n",
    "\n",
    "def mash_search(string):\n",
    "    splitted_input = (string.split(\" \"))\n",
    "    result = []\n",
    "    for j in range(len(splitted_input), 0, -1):\n",
    "        for string in combinations(splitted_input, j): \n",
    "            if filter_short(\" \".join(string)):\n",
    "                continue\n",
    "                \n",
    "            path = 'https://uts-ws.nlm.nih.gov/rest/search/current'\n",
    "            query = {\n",
    "                     'string': \" \".join(string),\n",
    "                     'apiKey':'6a290909-c0d8-4db9-b531-7387929b334e',\n",
    "            }\n",
    "            res = requests.get(path, params=query)\n",
    "\n",
    "            if res.status_code <= 200:\n",
    "                data = json.loads(res.text)\n",
    "                for j in data[\"result\"][\"results\"]:\n",
    "                    result.append((j[\"ui\"], j[\"name\"]))\n",
    "            else:\n",
    "                print(res.status_code, res.text)\n",
    "        \n",
    "        if len(result) != 0:\n",
    "            break\n",
    "                        \n",
    "    return result\n",
    "        \n",
    "r = mash_search('bolesti patní ostruhy vlevo')\n",
    "print(r)\n",
    "# print(json.dumps(r, indent=4))"
   ]
  },
  {
   "cell_type": "code",
   "execution_count": 10,
   "id": "4164f28f",
   "metadata": {},
   "outputs": [
    {
     "name": "stdout",
     "output_type": "stream",
     "text": [
      "[('C0700589', 'Contraceptive methods'), ('C0029151', 'Oral contraception'), ('C0419527', 'Contraception, Postcoital'), ('C0851160', 'Morning after pill method of contraception'), ('C0009866', 'Contraceptive Failure'), ('C0558252', 'Emergency Contraception'), ('C0086580', 'Male Contraception'), ('C0009892', 'Contraceptive History'), ('C0009899', 'Contraceptive Usage'), ('C2985296', 'Hormonal Contraception'), ('C0009870', 'Contraception, Immunologic'), ('C1168146', 'Transdermal contraception'), ('C1720756', 'Emergency Contraceptives'), ('C0086286', 'Female Contraception'), ('C4761168', 'Spermicidal contraceptive method'), ('C4761165', 'Intrauterine contraceptive method'), ('C0004764', 'Contraception, Barrier'), ('C0009891', 'Contraceptive Distribution'), ('C0009885', 'Contraceptive Availability'), ('C0009862', 'Contraception Behavior'), ('C4505082', 'Contraceptive Effectiveness'), ('C0021064', 'Immunological Fertility Control'), ('C4324371', 'Contraception via partner'), ('C1262153', 'Injectable contraception'), ('C1868784', 'Chemical contraception')]\n"
     ]
    },
    {
     "data": {
      "text/html": [
       "<div>\n",
       "<style scoped>\n",
       "    .dataframe tbody tr th:only-of-type {\n",
       "        vertical-align: middle;\n",
       "    }\n",
       "\n",
       "    .dataframe tbody tr th {\n",
       "        vertical-align: top;\n",
       "    }\n",
       "\n",
       "    .dataframe thead th {\n",
       "        text-align: right;\n",
       "    }\n",
       "</style>\n",
       "<table border=\"1\" class=\"dataframe\">\n",
       "  <thead>\n",
       "    <tr style=\"text-align: right;\">\n",
       "      <th></th>\n",
       "      <th>text</th>\n",
       "      <th>search</th>\n",
       "    </tr>\n",
       "  </thead>\n",
       "  <tbody>\n",
       "    <tr>\n",
       "      <th>53</th>\n",
       "      <td>antikoncepce: 0</td>\n",
       "      <td>[(C0700589, Contraceptive methods), (C0029151,...</td>\n",
       "    </tr>\n",
       "    <tr>\n",
       "      <th>186</th>\n",
       "      <td>antikoncepce</td>\n",
       "      <td>[(C0700589, Contraceptive methods), (C0029151,...</td>\n",
       "    </tr>\n",
       "    <tr>\n",
       "      <th>557</th>\n",
       "      <td>tramal</td>\n",
       "      <td>[(C0040611, Tramal), (C1699769, Tramal SR)]</td>\n",
       "    </tr>\n",
       "    <tr>\n",
       "      <th>615</th>\n",
       "      <td>indometacin</td>\n",
       "      <td>[(C3653099, indometacin, combinations), (C0021...</td>\n",
       "    </tr>\n",
       "    <tr>\n",
       "      <th>856</th>\n",
       "      <td>hormonální léčba</td>\n",
       "      <td>[(C0282402, Hormone replacement therapy), (C16...</td>\n",
       "    </tr>\n",
       "  </tbody>\n",
       "</table>\n",
       "</div>"
      ],
      "text/plain": [
       "                 text                                             search\n",
       "53    antikoncepce: 0  [(C0700589, Contraceptive methods), (C0029151,...\n",
       "186      antikoncepce  [(C0700589, Contraceptive methods), (C0029151,...\n",
       "557            tramal        [(C0040611, Tramal), (C1699769, Tramal SR)]\n",
       "615       indometacin  [(C3653099, indometacin, combinations), (C0021...\n",
       "856  hormonální léčba  [(C0282402, Hormone replacement therapy), (C16..."
      ]
     },
     "execution_count": 10,
     "metadata": {},
     "output_type": "execute_result"
    }
   ],
   "source": [
    "def search_db_mash(db):\n",
    "    db = clean_db(db)\n",
    "    db[\"search\"] = db[\"text\"].apply(mash_search)\n",
    "    return db\n",
    "\n",
    "ne_medikace_mash = search_db_mash(ne_medikace)\n",
    "print(ne_medikace_mash[\"search\"][53])\n",
    "ne_medikace_mash.head()"
   ]
  },
  {
   "cell_type": "code",
   "execution_count": 39,
   "id": "47261f2f",
   "metadata": {},
   "outputs": [
    {
     "name": "stdout",
     "output_type": "stream",
     "text": [
      "Number of empty: 2 (10.0 %)\n",
      "Mean from number of matches: 20.4\n",
      "Median from number of matches: 25.0\n",
      "Maximal of matches: 50\n"
     ]
    }
   ],
   "source": [
    "def print_stats(data):\n",
    "    empty = len(data[data[\"search\"].apply(lambda x: len(x) == 0)])\n",
    "    print(f\"Number of empty: {empty} ({empty / len(data) * 100} %)\")\n",
    "\n",
    "    number_of_matches = data[\"search\"].apply(lambda x: len(x))\n",
    "    print(f\"Mean from number of matches: {number_of_matches.mean()}\")\n",
    "    print(f\"Median from number of matches: {number_of_matches.median()}\")\n",
    "    print(f\"Maximal of matches: {number_of_matches.max()}\")\n",
    "    \n",
    "print_stats(ne_medikace_mash)"
   ]
  },
  {
   "cell_type": "code",
   "execution_count": 37,
   "id": "1035c51c",
   "metadata": {},
   "outputs": [],
   "source": [
    "def from_strin_to_list(string):\n",
    "    result = []\n",
    "    for j in string.strip(\"[]()\").split(\"), (\"):\n",
    "        if len(j) == 0:\n",
    "            continue\n",
    "        result.append(tuple(j.strip(\"'\").split(\"', '\")))\n",
    "                \n",
    "    return result"
   ]
  },
  {
   "cell_type": "code",
   "execution_count": 86,
   "id": "5939f969",
   "metadata": {},
   "outputs": [
    {
     "name": "stdout",
     "output_type": "stream",
     "text": [
      "Number of empty: 24 (10.434782608695652 %)\n",
      "Mean from number of matches: 20.64782608695652\n",
      "Median from number of matches: 18.5\n",
      "Maximal of matches: 86\n"
     ]
    }
   ],
   "source": [
    "import os\n",
    "if os.path.isfile(\"saved_search/os_anamneza_mash.csv\"):\n",
    "    os_anamneza_mash = pd.read_csv(\"saved_search/os_anamneza_mash.csv\")\n",
    "    os_anamneza_mash.index = os_anamneza_mash[\"Unnamed: 0\"]\n",
    "    os_anamneza_mash.drop([\"Unnamed: 0\"], axis=1, inplace=True)\n",
    "    os_anamneza_mash[\"search\"] = os_anamneza_mash[\"search\"].apply(from_strin_to_list)\n",
    "else:\n",
    "    os_anamneza_mash = search_db_mash(os_anamneza)\n",
    "    os_anamneza_mash.to_csv(\"saved_search/os_anamneza_mash.csv\")\n",
    "    \n",
    "print_stats(os_anamneza_mash)"
   ]
  },
  {
   "cell_type": "code",
   "execution_count": 41,
   "id": "30e82f12",
   "metadata": {},
   "outputs": [
    {
     "name": "stdout",
     "output_type": "stream",
     "text": [
      "Number of empty: 2 (10.0 %)\n",
      "Mean from number of matches: 20.4\n",
      "Median from number of matches: 25.0\n",
      "Maximal of matches: 50\n"
     ]
    }
   ],
   "source": [
    "if os.path.isfile(\"saved_search/ne_medikace_mash.csv\"):\n",
    "    ne_medikace_mash = pd.read_csv(\"saved_search/ne_medikace_mash.csv\")\n",
    "    ne_medikace_mash.index = ne_medikace_mash[\"Unnamed: 0\"]\n",
    "    ne_medikace_mash.drop([\"Unnamed: 0\"], axis=1, inplace=True)\n",
    "    ne_medikace_mash[\"search\"] = ne_medikace_mash[\"search\"].apply(from_strin_to_list)\n",
    "else:\n",
    "    ne_medikace_mash = search_db_mash(ne_medikace)\n",
    "    ne_medikace_mash.to_csv(\"saved_search/ne_medikace_mash.csv\")\n",
    "    \n",
    "print_stats(ne_medikace_mash)"
   ]
  },
  {
   "cell_type": "code",
   "execution_count": null,
   "id": "2cebff68",
   "metadata": {},
   "outputs": [],
   "source": [
    "if os.path.isfile(\"saved_search/ne_symptom_mash.csv\"):\n",
    "    ne_symptom_mash = pd.read_csv(\"saved_search/ne_symptom_mash.csv\")\n",
    "    ne_symptom_mash.index = ne_symptom_mash[\"Unnamed: 0\"]\n",
    "    ne_symptom_mash.drop([\"Unnamed: 0\"], axis=1, inplace=True)\n",
    "    ne_symptom_mash[\"search\"] = ne_symptom_mash[\"search\"].apply(from_strin_to_list)\n",
    "else:\n",
    "    ne_symptom_mash = search_db_mash(ne_symptom)\n",
    "    ne_symptom_mash.to_csv(\"saved_search/ne_symptom_mash.csv\")\n",
    "    \n",
    "print_stats(ne_symptom_mash)"
   ]
  },
  {
   "cell_type": "code",
   "execution_count": null,
   "id": "0028c41b",
   "metadata": {},
   "outputs": [],
   "source": [
    "import xml.etree.ElementTree as elt\n",
    "\n",
    "content = elt.parse('databaze/MeSH2023_Marc21.xml').getroot()"
   ]
  },
  {
   "cell_type": "code",
   "execution_count": null,
   "id": "bf34878a",
   "metadata": {},
   "outputs": [],
   "source": [
    "for child in content:\n",
    "#     print(child)\n",
    "    pass\n",
    "    "
   ]
  }
 ],
 "metadata": {
  "kernelspec": {
   "display_name": "Python 3 (ipykernel)",
   "language": "python",
   "name": "python3"
  },
  "language_info": {
   "codemirror_mode": {
    "name": "ipython",
    "version": 3
   },
   "file_extension": ".py",
   "mimetype": "text/x-python",
   "name": "python",
   "nbconvert_exporter": "python",
   "pygments_lexer": "ipython3",
   "version": "3.9.6"
  }
 },
 "nbformat": 4,
 "nbformat_minor": 5
}
